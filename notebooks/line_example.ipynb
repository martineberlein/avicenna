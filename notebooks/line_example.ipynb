{
 "cells": [
  {
   "cell_type": "code",
   "execution_count": 1,
   "id": "initial_id",
   "metadata": {},
   "outputs": [],
   "source": [
    "def pipeline_decision(params):\n",
    "    actions = []\n",
    "\n",
    "    if params[\"branch\"] == \"main\":\n",
    "        if params[\"changed_files\"] > 100:\n",
    "            actions.append(\"skip build\")  # Line A: Skip build for large changes on main\n",
    "        else:\n",
    "            actions.append(\"build\")  # Line B: Build main branch\n",
    "\n",
    "        if params[\"dependency_stability\"] == \"unstable\":\n",
    "            actions.append(\"run integration tests\")  # Line C: Run integration tests if dependencies are unstable\n",
    "        elif params[\"dependency_stability\"] == \"stable\" and params[\"test_results\"] == \"pass\":\n",
    "            actions.append(\"deploy\")  # Line D: Deploy to production if main and stable dependencies\n",
    "\n",
    "    elif params[\"branch\"].startswith(\"feature/\"):\n",
    "        actions.append(\"build\")  # Line E: Build feature branch\n",
    "\n",
    "        if params[\"changed_files\"] < 50 and params[\"review_status\"] == \"approved\":\n",
    "            actions.append(\"run unit tests\")  # Line F: Run tests on small, approved feature branches\n",
    "\n",
    "    if params[\"critical_bug_found\"]:\n",
    "        actions.append(\"halt deployment\")  # Line G: Halt if critical bug\n",
    "\n",
    "    if params[\"last_deployment_status\"] == \"failure\" and params[\"branch\"] == \"main\":\n",
    "        actions.append(\"notify team\")  # Line H: Notify team on repeated failure in main branch\n",
    "\n",
    "    return actions"
   ]
  },
  {
   "cell_type": "code",
   "execution_count": 35,
   "id": "383b85c5-6410-4c4c-8eb5-aeb39ea602b6",
   "metadata": {},
   "outputs": [
    {
     "data": {
      "text/plain": [
       "True"
      ]
     },
     "execution_count": 35,
     "metadata": {},
     "output_type": "execute_result"
    }
   ],
   "source": [
    "from debugging_framework.fuzzingbook.grammar import is_valid_grammar\n",
    "\n",
    "pipeline_grammar = {\n",
    "    \"<start>\": [\"<pipeline_input>\"],\n",
    "    \"<pipeline_input>\": [\"{ <branch>, <changed_files>, <dependency_stability>, <test_results>, <review_status>, <critical_bug_found>, <last_deployment_status> }\"],\n",
    "    \n",
    "    \"<branch>\": [\"'branch': <main_branch>\", \"'branch': <feature_branch>\"],\n",
    "    \"<main_branch>\": [\"'main'\"],\n",
    "    \"<feature_branch>\": [\"'feature/<feature_name>'\"],\n",
    "    \"<feature_name>\": [\"<alphanum>\", \"<alphanum><feature_name>\"],\n",
    "    \n",
    "    \"<changed_files>\": [\"'changed_files': <nonnegative_integer>\"],\n",
    "    \n",
    "    \"<dependency_stability>\": [\"'dependency_stability': 'stable'\", \"'dependency_stability': 'unstable'\"],\n",
    "    \n",
    "    \"<test_results>\": [\"'test_results': 'pass'\", \"'test_results': 'fail'\"],\n",
    "    \n",
    "    \"<review_status>\": [\"'review_status': 'approved'\", \"'review_status': 'pending'\", \"'review_status': 'rejected'\"],\n",
    "    \n",
    "    \"<critical_bug_found>\": [\"'critical_bug_found': True\", \"'critical_bug_found': False\"],\n",
    "    \n",
    "    \"<last_deployment_status>\": [\"'last_deployment_status': 'success'\", \"'last_deployment_status': 'failure'\"],\n",
    "    \n",
    "    \"<nonnegative_integer>\": [\"<digit>\", \"<digit><nonnegative_integer>\"],\n",
    "    \n",
    "    \"<alphanum>\": [\"<letter>\", \"<digit>\"],\n",
    "    \"<letter>\": [chr(letter) for letter in range(ord('a'), ord('z') + 1)] + [chr(letter) for letter in range(ord('A'), ord('Z') + 1)],\n",
    "    \"<digit>\": [str(digit) for digit in range(10)]\n",
    "}\n",
    "\n",
    "is_valid_grammar(pipeline_grammar)"
   ]
  },
  {
   "cell_type": "code",
   "execution_count": 36,
   "id": "f063cc9a-54a0-49a8-bd5d-78a06794657e",
   "metadata": {},
   "outputs": [
    {
     "name": "stdout",
     "output_type": "stream",
     "text": [
      "{ 'branch': 'main', 'changed_files': 5, 'dependency_stability': 'unstable', 'test_results': 'fail', 'review_status': 'approved', 'critical_bug_found': True, 'last_deployment_status': 'failure' }\n",
      "{ 'branch': 'main', 'changed_files': 5, 'dependency_stability': 'unstable', 'test_results': 'fail', 'review_status': 'approved', 'critical_bug_found': True, 'last_deployment_status': 'failure' } ['build', 'run integration tests', 'halt deployment', 'notify team']\n",
      "{ 'branch': 'feature/2p', 'changed_files': 9, 'dependency_stability': 'stable', 'test_results': 'fail', 'review_status': 'pending', 'critical_bug_found': True, 'last_deployment_status': 'success' }\n",
      "{ 'branch': 'feature/2p', 'changed_files': 9, 'dependency_stability': 'stable', 'test_results': 'fail', 'review_status': 'pending', 'critical_bug_found': True, 'last_deployment_status': 'success' } ['build', 'halt deployment']\n",
      "{ 'branch': 'main', 'changed_files': 80, 'dependency_stability': 'stable', 'test_results': 'fail', 'review_status': 'pending', 'critical_bug_found': True, 'last_deployment_status': 'failure' }\n",
      "{ 'branch': 'main', 'changed_files': 80, 'dependency_stability': 'stable', 'test_results': 'fail', 'review_status': 'pending', 'critical_bug_found': True, 'last_deployment_status': 'failure' } ['build', 'halt deployment', 'notify team']\n",
      "{ 'branch': 'main', 'changed_files': 7, 'dependency_stability': 'unstable', 'test_results': 'pass', 'review_status': 'rejected', 'critical_bug_found': False, 'last_deployment_status': 'failure' }\n",
      "{ 'branch': 'main', 'changed_files': 7, 'dependency_stability': 'unstable', 'test_results': 'pass', 'review_status': 'rejected', 'critical_bug_found': False, 'last_deployment_status': 'failure' } ['build', 'run integration tests', 'notify team']\n",
      "{ 'branch': 'feature/8', 'changed_files': 171, 'dependency_stability': 'unstable', 'test_results': 'pass', 'review_status': 'rejected', 'critical_bug_found': False, 'last_deployment_status': 'success' }\n",
      "{ 'branch': 'feature/8', 'changed_files': 171, 'dependency_stability': 'unstable', 'test_results': 'pass', 'review_status': 'rejected', 'critical_bug_found': False, 'last_deployment_status': 'success' } ['build']\n"
     ]
    }
   ],
   "source": [
    "from debugging_framework.fuzzingbook.fuzzer import GrammarFuzzer\n",
    "\n",
    "fuzzer = GrammarFuzzer(pipeline_grammar)\n",
    "\n",
    "for _ in range(5):\n",
    "    inp = fuzzer.fuzz()\n",
    "    print(inp)\n",
    "    print(inp, pipeline_decision(eval(inp)))"
   ]
  },
  {
   "cell_type": "code",
   "execution_count": null,
   "id": "8e54d221-929c-4d6f-93e8-3e6559c22b25",
   "metadata": {},
   "outputs": [],
   "source": []
  },
  {
   "cell_type": "code",
   "execution_count": 2,
   "id": "3f78bed7-3d31-4e1e-a047-a94595568727",
   "metadata": {},
   "outputs": [],
   "source": [
    "params1 = {\n",
    "    \"branch\": \"main\",\n",
    "    \"changed_files\": 150,\n",
    "    \"dependency_stability\": \"stable\",\n",
    "    \"test_results\": \"pass\",\n",
    "    \"review_status\": \"approved\",\n",
    "    \"critical_bug_found\": False,\n",
    "    \"last_deployment_status\": \"success\"\n",
    "}"
   ]
  },
  {
   "cell_type": "code",
   "execution_count": 3,
   "id": "13b3473c-ce55-4f08-837f-47e270205641",
   "metadata": {},
   "outputs": [
    {
     "data": {
      "text/plain": [
       "['skip build', 'deploy']"
      ]
     },
     "execution_count": 3,
     "metadata": {},
     "output_type": "execute_result"
    }
   ],
   "source": [
    "pipeline_decision(params1)"
   ]
  },
  {
   "cell_type": "code",
   "execution_count": null,
   "id": "3f09f1b7-ed0d-46b6-8d67-101e9e167caf",
   "metadata": {},
   "outputs": [],
   "source": []
  },
  {
   "cell_type": "code",
   "execution_count": 4,
   "id": "3911ccda-0391-437a-84a0-6cebd02b812b",
   "metadata": {},
   "outputs": [],
   "source": [
    "params1 = \"\"\"{\n",
    "    \"branch\": \"main\",\n",
    "    \"changed_files\": 20,\n",
    "    \"dependency_stability\": \"stable\",\n",
    "    \"test_results\": \"pass\",\n",
    "    \"review_status\": \"approved\",\n",
    "    \"critical_bug_found\": False,\n",
    "    \"last_deployment_status\": \"success\"\n",
    "}\"\"\""
   ]
  },
  {
   "cell_type": "code",
   "execution_count": 15,
   "id": "c9948b9f-d9a8-44a8-9170-e681844f430b",
   "metadata": {},
   "outputs": [],
   "source": [
    "params2 = \"\"\"{\n",
    "    \"branch\": \"main\",\n",
    "    \"changed_files\": 150,\n",
    "    \"dependency_stability\": \"stable\",\n",
    "    \"test_results\": \"pass\",\n",
    "    \"review_status\": \"approved\",\n",
    "    \"critical_bug_found\": True,\n",
    "    \"last_deployment_status\": \"success\"\n",
    "}\"\"\""
   ]
  },
  {
   "cell_type": "code",
   "execution_count": null,
   "id": "2e5c33b6-a55a-46fa-9e76-861d0efd4b76",
   "metadata": {},
   "outputs": [],
   "source": []
  },
  {
   "cell_type": "code",
   "execution_count": 16,
   "id": "ca4a7d90-784b-4f86-b0fe-96bb78c8e36a",
   "metadata": {},
   "outputs": [],
   "source": [
    "from linetracer import CoveragePyAnalyzer\n",
    "from pathlib import Path"
   ]
  },
  {
   "cell_type": "code",
   "execution_count": 17,
   "id": "44eb5b93-8f18-4248-af9f-0387c3e76e86",
   "metadata": {},
   "outputs": [
    {
     "name": "stdout",
     "output_type": "stream",
     "text": [
      "['skip build', 'deploy', 'halt deployment']\n",
      "\n",
      "Name                   Stmts   Miss  Cover\n",
      "------------------------------------------\n",
      "pipeline/__init__.py       0      0   100%\n",
      "pipeline/pipeline.py      21      7    67%\n",
      "------------------------------------------\n",
      "TOTAL                     21      7    67%\n",
      "66.66666666666667\n",
      "CoverageReport(['pipeline.py: {1, 2, 4, 5, 6, 10, 12, 13, 21, 22, 24, 27, 30, 31}', '__init__.py: {0}'], coverage=0.7142857142857143)\n",
      "{'/Users/martineberlein/github/avicenna/notebooks/pipeline/pipeline.py': {1, 2, 4, 5, 6, 10, 12, 13, 21, 22, 24, 27, 30, 31}, '/Users/martineberlein/github/avicenna/notebooks/pipeline/__init__.py': {0}}\n",
      "{'/Users/martineberlein/github/avicenna/notebooks/pipeline/pipeline.py': {1, 2, 4, 5, 6, 10, 12, 13, 21, 22, 24, 27, 30, 31}, '/Users/martineberlein/github/avicenna/notebooks/pipeline/__init__.py': set()}\n",
      "/Users/martineberlein/github/avicenna/notebooks/pipeline/pipeline.py: 14\n",
      "/Users/martineberlein/github/avicenna/notebooks/pipeline/__init__.py: 0\n",
      "Total: 14\n",
      "Coverage: 0.6666666666666666\n"
     ]
    }
   ],
   "source": [
    "analyzer = CoveragePyAnalyzer(\n",
    "    project_root=Path.cwd() / \"pipeline\",\n",
    "    harness=Path.cwd() / \"harness.py\",\n",
    "    test=[params2])\n",
    "\n",
    "report = analyzer.get_coverage()\n",
    "print(report)\n",
    "print(report.coverage_data)\n",
    "\n",
    "trigg = dict()\n",
    "for file, lines in report.total_executable_lines.items():\n",
    "    trigg[file] = lines.intersection(report.coverage_data[file])\n",
    "\n",
    "print(trigg)\n",
    "su = 0\n",
    "for file, lines in trigg.items():\n",
    "    print(f\"{file}: {len(lines)}\")\n",
    "    su += len(lines)\n",
    "\n",
    "print(f\"Total: {su}\")\n",
    "print(f\"Coverage: {su / sum(len(lines) for lines in report.total_executable_lines.values())}\")"
   ]
  },
  {
   "cell_type": "code",
   "execution_count": 21,
   "id": "331eeab1-d02f-4117-916c-5affa57d81b3",
   "metadata": {},
   "outputs": [
    {
     "data": {
      "text/plain": [
       "True"
      ]
     },
     "execution_count": 21,
     "metadata": {},
     "output_type": "execute_result"
    }
   ],
   "source": [
    "12 in report.coverage_data['/Users/martineberlein/github/avicenna/notebooks/pipeline/pipeline.py']"
   ]
  },
  {
   "cell_type": "code",
   "execution_count": null,
   "id": "38ac4a93-3555-4a92-8066-e8be1db38dc9",
   "metadata": {},
   "outputs": [],
   "source": []
  },
  {
   "cell_type": "code",
   "execution_count": null,
   "id": "c77778c3-668b-4609-bf8f-7e380f342c71",
   "metadata": {},
   "outputs": [],
   "source": []
  }
 ],
 "metadata": {
  "kernelspec": {
   "display_name": "Python 3 (ipykernel)",
   "language": "python",
   "name": "python3"
  },
  "language_info": {
   "codemirror_mode": {
    "name": "ipython",
    "version": 3
   },
   "file_extension": ".py",
   "mimetype": "text/x-python",
   "name": "python",
   "nbconvert_exporter": "python",
   "pygments_lexer": "ipython3",
   "version": "3.12.3"
  }
 },
 "nbformat": 4,
 "nbformat_minor": 5
}
